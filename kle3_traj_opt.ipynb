{
 "cells": [
  {
   "cell_type": "code",
   "execution_count": 1,
   "metadata": {},
   "outputs": [],
   "source": [
    "import jax.numpy as np\n",
    "import jax.random as jnp_random\n",
    "import numpy.random as npr\n",
    "import numpy as onp\n",
    "from jax import grad, jacrev, jacfwd, jit, vmap, partial\n",
    "from jax.nn import relu\n",
    "from jax.lax import scan, cond\n",
    "from jax.ops import index, index_add, index_update\n",
    "from jax.flatten_util import ravel_pytree\n",
    "from jax.scipy.special import logsumexp\n",
    "from jax.numpy import concatenate as cat\n",
    "from jax.experimental import stax, optimizers\n",
    "from jax.nn.initializers import normal\n",
    "\n",
    "import random\n",
    "import pickle as pkl\n",
    "import scipy\n",
    "\n",
    "from IPython.display import clear_output\n",
    "import matplotlib.pyplot as plt\n",
    "\n",
    "\n",
    "# import dynamics f(x, u) and equilibrium policy pi\n",
    "# importing the lunar lander dynamics and stabilization policy pi \n",
    "from mypointmass import f"
   ]
  },
  {
   "cell_type": "code",
   "execution_count": 2,
   "metadata": {},
   "outputs": [],
   "source": [
    "@jit\n",
    "def p(x): # target distribution\n",
    "    s = x[:2]\n",
    "    x1 = s-np.array([0.7, 0.5])\n",
    "    x2 = s+np.array([-0.4, 0.3])\n",
    "    x3 = s-np.array([-0.7, 0.6])\n",
    "\n",
    "    return np.exp(-0.5*np.sum((x1/0.19)**2)) \\\n",
    "            + np.exp(-0.5*np.sum((x2/0.15)**2)) \\\n",
    "            + np.exp(-0.5*np.sum((x3/0.4)**2)) \\\n",
    "\n",
    "@jit\n",
    "def dist(x, s): # log pdf on individual point in robot trajectory\n",
    "    dx = x[:2]-s\n",
    "    return -0.5 * np.sum((dx/0.1)**2)\n",
    "\n",
    "def kle3_rollout(x, u):\n",
    "    x = f(x, u)\n",
    "    return x, x\n",
    "\n",
    "logexp_vmap = lambda _x, _s: logsumexp(vmap(dist, in_axes=(0, None))(_x, _s))\n",
    "\n",
    "def kle3_loss(u, x0, si):\n",
    "    xf, tr = scan(kle3_rollout, x0, u)\n",
    "    ell = -np.mean(vmap(partial(logexp_vmap, tr))(si) * vmap(p)(si)) + 1e-3*np.mean(u**2)\n",
    "    barr_cost = np.sum(np.maximum(0, -tr[:,:2]-1)**2 + np.maximum(0, tr[:,:2]-1)**2)\n",
    "    return ell + barr_cost\n",
    "\n",
    "djdu = jit(grad(kle3_loss))\n"
   ]
  },
  {
   "cell_type": "code",
   "execution_count": 11,
   "metadata": {},
   "outputs": [
    {
     "data": {
      "image/png": "[encoded data removed]",
      "text/plain": [
       "<Figure size 432x288 with 1 Axes>"
      ]
     },
     "metadata": {
      "needs_background": "light"
     },
     "output_type": "display_data"
    }
   ],
   "source": [
    "\n",
    "u = np.zeros((100, 2))\n",
    "x0 = np.zeros(2)\n",
    "traj = []\n",
    "\n",
    "opt_init, opt_update, get_params = optimizers.adam(1e-1)\n",
    "opt_state = opt_init(u)\n",
    "\n",
    "key = jnp_random.PRNGKey(0)\n",
    "random.seed(0)\n",
    "for t in range(2000):\n",
    "    key, subkey = jnp_random.split(key)\n",
    "    si = jnp_random.uniform(key, shape=(60,2), minval=-1., maxval=1.)\n",
    "    g =  djdu(get_params(opt_state), x0, si)\n",
    "    opt_state = opt_update(t, g, opt_state)\n",
    "\n",
    "u = get_params(opt_state)\n",
    "xf, traj = scan(kle3_rollout, x0, u)\n",
    "traj = np.stack(traj)\n",
    "X, Y = onp.meshgrid(*[np.linspace(-1,1)]*2)\n",
    "x_pts = np.stack([X.ravel(), Y.ravel()]).T\n",
    "p_eval = vmap(p)(x_pts).reshape(X.shape)\n",
    "plt.contourf(X, Y, p_eval)\n",
    "plt.plot(traj[:,0], traj[:,1], '*')\n",
    "plt.axis('equal')\n",
    "plt.axis('square')\n",
    "plt.title('robot trajectory')\n",
    "plt.xlim(-1,1)\n",
    "plt.ylim(-1,1)\n",
    "plt.show()"
   ]
  }
 ],
 "metadata": {
  "kernelspec": {
   "display_name": "Python 3",
   "language": "python",
   "name": "python3"
  },
  "language_info": {
   "codemirror_mode": {
    "name": "ipython",
    "version": 3
   },
   "file_extension": ".py",
   "mimetype": "text/x-python",
   "name": "python",
   "nbconvert_exporter": "python",
   "pygments_lexer": "ipython3",
   "version": "3.8.5"
  }
 },
 "nbformat": 4,
 "nbformat_minor": 4
}
