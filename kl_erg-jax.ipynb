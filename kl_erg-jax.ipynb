{
 "cells": [
  {
   "cell_type": "code",
   "execution_count": 1,
   "metadata": {},
   "outputs": [],
   "source": [
    "import jax.numpy as np\n",
    "import numpy.random as npr\n",
    "import numpy as onp\n",
    "from jax import grad, jacrev, jacfwd, jit, vmap, partial\n",
    "from jax.lax import scan\n",
    "from jax.scipy.special import logsumexp\n",
    "from IPython.display import clear_output\n",
    "import seaborn as sns\n",
    "import matplotlib.pyplot as plt"
   ]
  },
  {
   "cell_type": "code",
   "execution_count": 2,
   "metadata": {},
   "outputs": [],
   "source": [
    "@jit\n",
    "def f(x, u):\n",
    "    xnew = x + 2*np.tanh(u)\n",
    "    return xnew, x\n",
    "@jit\n",
    "def p(x):\n",
    "#     return 1.0\n",
    "    x1 = x-np.array([0.7, 0.5])\n",
    "    x2 = x+np.array([-0.7, 0.5])\n",
    "    return np.exp(-0.5*np.sum((x1/0.2)**2)) \\\n",
    "            + np.exp(-0.5*np.sum((x2/0.2)**2))\n",
    "\n",
    "@jit\n",
    "def dist(x, s):\n",
    "    dx = x-s\n",
    "    return -0.5 * np.sum((dx/0.1)**2)\n",
    "\n",
    "logexp_vmap = lambda _x, _s: logsumexp(vmap(dist, in_axes=(0, None))(_x, _s))\n",
    "\n",
    "def loss(u, x0, si, xT=False):\n",
    "    xf, tr = scan(f, x0, u)\n",
    "    ell = -np.mean(vmap(partial(logexp_vmap, tr))(si) * vmap(p)(si)) + np.mean(u**2)#+ np.mean(vmap(p)(si) * np.log(vmap(p)(si)))\n",
    "    if xT:\n",
    "        return ell, tr \n",
    "    return ell\n",
    "\n",
    "dl = jit(grad(loss))\n",
    "dlsi = jit(grad(loss, 2))"
   ]
  },
  {
   "cell_type": "code",
   "execution_count": 3,
   "metadata": {},
   "outputs": [
    {
     "name": "stderr",
     "output_type": "stream",
     "text": [
      "/home/burn/.local/lib/python3.6/site-packages/jax/lib/xla_bridge.py:125: UserWarning: No GPU/TPU found, falling back to CPU.\n",
      "  warnings.warn('No GPU/TPU found, falling back to CPU.')\n"
     ]
    },
    {
     "data": {
      "text/plain": [
       "DeviceArray(7.8009543, dtype=float32)"
      ]
     },
     "execution_count": 3,
     "metadata": {},
     "output_type": "execute_result"
    }
   ],
   "source": [
    "x0 = np.array([-0.5,0.0])\n",
    "# u = np.stack([np.array([0.001, -0.001])*np.sin(0.1*t) for t in range(400)])\n",
    "u = np.zeros((100,2))\n",
    "\n",
    "# si = npr.uniform(-1,1, size=(10,2))\n",
    "si = npr.uniform(-1,1, size=(40,2))\n",
    "\n",
    "x_test, y_test = np.meshgrid(*[np.linspace(-1,1)]*2)\n",
    "map_pts = np.stack([x_test.ravel(), y_test.ravel()]).T\n",
    "loss(u, x0, si)"
   ]
  },
  {
   "cell_type": "code",
   "execution_count": 17,
   "metadata": {},
   "outputs": [
    {
     "name": "stdout",
     "output_type": "stream",
     "text": [
      "-0.14679931 [-0.5  0. ] [-0.5  0. ] [0.1574794  0.05478967]\n"
     ]
    },
    {
     "data": {
      "image/png": "[encoded data removed]",
      "text/plain": [
       "<Figure size 432x288 with 2 Axes>"
      ]
     },
     "metadata": {
      "needs_background": "light"
     },
     "output_type": "display_data"
    },
    {
     "data": {
      "text/plain": [
       "<Figure size 432x288 with 0 Axes>"
      ]
     },
     "metadata": {},
     "output_type": "display_data"
    }
   ],
   "source": [
    "for k in range(1000):\n",
    "#     xf, tr = scan(f, x0, u)\n",
    "\n",
    "    si = npr.uniform(-1,1, size=(40,2))\n",
    "\n",
    "#     weights = vmap(p)(si)\n",
    "#     for _ in range(10):\n",
    "#         weights /= np.sum(weights)\n",
    "    \n",
    "#     if 1.0/np.sum(np.square(weights)) < len(weights):\n",
    "#         print(np.sum(weights))\n",
    "#         si = simple_resample(si, weights)\n",
    "#         si += npr.normal(0., 0.01, size=si.shape)\n",
    "\n",
    "    u -= 0.001 * dl(u, x0, si)\n",
    "    if k % 100 == 0:\n",
    "        clear_output(wait=True)\n",
    "        \n",
    "        fig, ax = plt.subplots(1, 2)\n",
    "        _el, pred_tr = loss(u, x0, si, xT=True)\n",
    "        print(_el, pred_tr[0], x0, u[0])\n",
    "        \n",
    "        pdf = vmap(p)(map_pts).reshape(x_test.shape)\n",
    "        pdf /= np.sum(pdf)\n",
    "        \n",
    "        recon = np.exp(vmap(partial(logexp_vmap, pred_tr))(map_pts))\n",
    "#         pdf = vmap(p)(x_test)\n",
    "        ax[0].contourf(x_test, y_test, pdf, cmap='bone')\n",
    "#         plt.plot(x0[0], x0[1], 'm')\n",
    "#         plt.plot(pred_tr[0,0], pred_tr[0,1], 'mo')\n",
    "        ax[1].contourf(x_test, y_test, recon.reshape(x_test.shape), cmap='bone')\n",
    "\n",
    "        ax[1].plot(pred_tr[:,0], pred_tr[:,1], 'm')\n",
    "        ax[0].plot(pred_tr[:,0], pred_tr[:,1], 'm')\n",
    "        ax[1].set_title('KL-reconstruction')\n",
    "        ax[0].axis('equal')\n",
    "        ax[0].axis('square')\n",
    "        ax[1].axis('equal')\n",
    "        ax[1].axis('square')\n",
    "#         plt.xlim(-1,1)\n",
    "#         plt.ylim(-1,1)\n",
    "#         plt.scatter(si[:,0], si[:,1], c='r')\n",
    "        plt.pause(0.01)\n",
    "#     x0 = f(x0, u[1])[0]\n",
    "plt.savefig('kl-ergodic-coverage.pdf') \n",
    "\n",
    "# plt.show()"
   ]
  },
  {
   "cell_type": "code",
   "execution_count": 23,
   "metadata": {},
   "outputs": [],
   "source": [
    "from matplotlib import rc\n",
    "rc('text', usetex=True)"
   ]
  },
  {
   "cell_type": "code",
   "execution_count": 29,
   "metadata": {},
   "outputs": [
    {
     "data": {
      "image/png": "[encoded data removed]",
      "text/plain": [
       "<Figure size 432x288 with 2 Axes>"
      ]
     },
     "metadata": {
      "needs_background": "light"
     },
     "output_type": "display_data"
    }
   ],
   "source": [
    "    \n",
    "fig, ax = plt.subplots(1, 2)\n",
    "recon = np.exp(vmap(partial(logexp_vmap, pred_tr))(map_pts))\n",
    "ax[0].contourf(x_test, y_test, pdf, cmap='bone')\n",
    "ax[1].contourf(x_test, y_test, recon.reshape(x_test.shape), cmap='bone')\n",
    "\n",
    "ax[1].plot(pred_tr[:,0], pred_tr[:,1], 'm')\n",
    "ax[0].plot(pred_tr[:,0], pred_tr[:,1], 'm')\n",
    "ax[0].set_title('Exploration space')\n",
    "ax[1].set_xlabel('x')\n",
    "ax[1].set_ylabel('y')\n",
    "ax[1].set_title('KL time-average reconstruction')\n",
    "ax[0].axis('equal')\n",
    "ax[0].axis('square')\n",
    "ax[1].axis('equal')\n",
    "ax[1].axis('square')\n",
    "ax[0].set_xlabel('x')\n",
    "ax[0].set_ylabel('y')\n",
    "plt.tight_layout()\n",
    "\n",
    "plt.savefig('kl-ergodic-coverage.pdf') "
   ]
  },
  {
   "cell_type": "code",
   "execution_count": 47,
   "metadata": {},
   "outputs": [],
   "source": [
    "def simple_resample(particles, weights):\n",
    "    N = len(particles)\n",
    "    cumulative_sum = onp.cumsum(weights)\n",
    "    cumulative_sum[-1] = 1. # avoid round-off error\n",
    "    indexes = onp.searchsorted(cumulative_sum, npr.random(N))\n",
    "    \n",
    "    indexes = npr.choice(len(particles), size=(len(particles),), p=weights)\n",
    "    # weights.fill(1.0 / N)\n",
    "    return particles[indexes]"
   ]
  },
  {
   "cell_type": "code",
   "execution_count": 188,
   "metadata": {},
   "outputs": [],
   "source": [
    "si = simple_resample(si, weights)\n",
    "si += npr.normal(0., 0.1, size=si.shape)\n",
    "\n",
    "weights = vmap(p)(si)\n",
    "weights /= np.sum(weights)"
   ]
  },
  {
   "cell_type": "code",
   "execution_count": 255,
   "metadata": {},
   "outputs": [
    {
     "ename": "IndexError",
     "evalue": "index 15 is out of bounds for axis 0 with size 10",
     "output_type": "error",
     "traceback": [
      "\u001b[0;31m---------------------------------------------------------------------------\u001b[0m",
      "\u001b[0;31mIndexError\u001b[0m                                Traceback (most recent call last)",
      "\u001b[0;32m<ipython-input-255-a82600658fa8>\u001b[0m in \u001b[0;36m<module>\u001b[0;34m\u001b[0m\n\u001b[1;32m      1\u001b[0m \u001b[0mplt\u001b[0m\u001b[0;34m.\u001b[0m\u001b[0mcontourf\u001b[0m\u001b[0;34m(\u001b[0m\u001b[0mx_test\u001b[0m\u001b[0;34m,\u001b[0m \u001b[0my_test\u001b[0m\u001b[0;34m,\u001b[0m \u001b[0mpdf\u001b[0m\u001b[0;34m,\u001b[0m \u001b[0mcmap\u001b[0m\u001b[0;34m=\u001b[0m\u001b[0;34m'jet'\u001b[0m\u001b[0;34m)\u001b[0m\u001b[0;34m\u001b[0m\u001b[0;34m\u001b[0m\u001b[0m\n\u001b[0;32m----> 2\u001b[0;31m \u001b[0mplt\u001b[0m\u001b[0;34m.\u001b[0m\u001b[0mscatter\u001b[0m\u001b[0;34m(\u001b[0m\u001b[0msi\u001b[0m\u001b[0;34m[\u001b[0m\u001b[0midxs\u001b[0m\u001b[0;34m,\u001b[0m\u001b[0;36m0\u001b[0m\u001b[0;34m]\u001b[0m\u001b[0;34m,\u001b[0m \u001b[0msi\u001b[0m\u001b[0;34m[\u001b[0m\u001b[0midxs\u001b[0m\u001b[0;34m,\u001b[0m\u001b[0;36m1\u001b[0m\u001b[0;34m]\u001b[0m\u001b[0;34m)\u001b[0m\u001b[0;34m\u001b[0m\u001b[0;34m\u001b[0m\u001b[0m\n\u001b[0m",
      "\u001b[0;31mIndexError\u001b[0m: index 15 is out of bounds for axis 0 with size 10"
     ]
    },
    {
     "data": {
      "image/png": "[encoded data removed]",
      "text/plain": [
       "<Figure size 432x288 with 1 Axes>"
      ]
     },
     "metadata": {
      "needs_background": "light"
     },
     "output_type": "display_data"
    }
   ],
   "source": [
    "\n",
    "plt.contourf(x_test, y_test, pdf, cmap='jet')\n",
    "plt.scatter(si[idxs,0], si[idxs,1])"
   ]
  },
  {
   "cell_type": "code",
   "execution_count": 2,
   "metadata": {},
   "outputs": [],
   "source": [
    "import torch\n",
    "from torch.autograd.functional import jacobian"
   ]
  },
  {
   "cell_type": "code",
   "execution_count": 23,
   "metadata": {},
   "outputs": [
    {
     "data": {
      "text/plain": [
       "torch.Size([3, 2, 3, 2])"
      ]
     },
     "execution_count": 23,
     "metadata": {},
     "output_type": "execute_result"
    }
   ],
   "source": [
    "def f(x, y):\n",
    "    return x.exp() + torch.pow(y, 2)\n",
    "\n",
    "inputs = (torch.rand(3,2), torch.rand(3,2))\n",
    "\n",
    "jacobian(f, inputs)[0].shape"
   ]
  },
  {
   "cell_type": "code",
   "execution_count": null,
   "metadata": {},
   "outputs": [],
   "source": []
  }
 ],
 "metadata": {
  "kernelspec": {
   "display_name": "Python 3",
   "language": "python",
   "name": "python3"
  },
  "language_info": {
   "codemirror_mode": {
    "name": "ipython",
    "version": 3
   },
   "file_extension": ".py",
   "mimetype": "text/x-python",
   "name": "python",
   "nbconvert_exporter": "python",
   "pygments_lexer": "ipython3",
   "version": "3.6.9"
  }
 },
 "nbformat": 4,
 "nbformat_minor": 4
}
