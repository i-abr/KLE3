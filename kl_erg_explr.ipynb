{
 "cells": [
  {
   "cell_type": "code",
   "execution_count": 1,
   "metadata": {},
   "outputs": [],
   "source": [
    "import math\n",
    "import random\n",
    "\n",
    "import autograd.numpy        as np\n",
    "import autograd.numpy.random as npr \n",
    "\n",
    "from autograd.scipy.stats import norm\n",
    "from autograd             import jacobian, grad"
   ]
  },
  {
   "cell_type": "code",
   "execution_count": 2,
   "metadata": {},
   "outputs": [],
   "source": [
    "from IPython.display import clear_output\n",
    "import matplotlib.pyplot as plt\n",
    "%matplotlib inline"
   ]
  },
  {
   "cell_type": "code",
   "execution_count": 2,
   "metadata": {},
   "outputs": [],
   "source": [
    "class TimeAveragedDist(object):    \n",
    "    \n",
    "    def __init__(self, explr_idx=[0], log_std=0., capacity=100):    \n",
    "    \n",
    "        self.log_std   = log_std    \n",
    "        self.capacity  = capacity    \n",
    "        self.explr_idx = explr_idx     \n",
    "    \n",
    "    \n",
    "    def log_prob(self, x, s, grad=False):    \n",
    "        \"\"\" Calculates the log probability of the time averaged distribution      \n",
    "        \"\"\"    \n",
    "        if grad:    \n",
    "            return -(x[self.explr_idx]-s)/np.exp(self.log_std)    \n",
    "        return -0.5 * self.log_std - 0.5 * np.sum((x[:, self.explr_idx]-s)/np.exp(self.log_std),1)    \n"
   ]
  },
  {
   "cell_type": "code",
   "execution_count": 3,
   "metadata": {},
   "outputs": [],
   "source": [
    "dist = TimeAveragedDist()"
   ]
  },
  {
   "cell_type": "code",
   "execution_count": null,
   "metadata": {},
   "outputs": [],
   "source": [
    "x = npr."
   ]
  },
  {
   "cell_type": "markdown",
   "metadata": {},
   "source": [
    "## Environment\n",
    "Here, we use a 1-D environment where a robot has access in the $x$-space."
   ]
  },
  {
   "cell_type": "code",
   "execution_count": 3,
   "metadata": {},
   "outputs": [],
   "source": [
    "class SingleIntegratorEnv(object):\n",
    "\n",
    "    def __init__(self):\n",
    "\n",
    "        self.num_states = 2\n",
    "        self.num_actions = 1\n",
    "        self.dt = 0.1\n",
    "\n",
    "        self.A = np.array([\n",
    "            [0., 1.0, 0.],\n",
    "            [0., 0., 1.0]\n",
    "        ])\n",
    "        \n",
    "    def get_lin(self, x, u):\n",
    "        return self.A[:, :self.num_states], self.A[:, self.num_states:]\n",
    "        \n",
    "    def reset(self, state=None):\n",
    "\n",
    "        if state is None:\n",
    "            self.state = npr.uniform(-.1, .1, size=(self.num_states,))\n",
    "        else:\n",
    "            self.state = state.copy()\n",
    "\n",
    "        return self.state.copy()\n",
    "\n",
    "    def f(self, x, u):\n",
    "        inputs = np.hstack((x, u))\n",
    "        return np.dot(self.A, inputs)\n",
    "\n",
    "    def step(self, u):\n",
    "        self.state = self.state + self.f(self.state, u) * self.dt\n",
    "        return self.state.copy()"
   ]
  },
  {
   "cell_type": "markdown",
   "metadata": {},
   "source": [
    "## Create a buffer, target distribution, and the KL-E3 algorithm"
   ]
  },
  {
   "cell_type": "code",
   "execution_count": 10,
   "metadata": {},
   "outputs": [],
   "source": [
    "class ReplayBuffer:\n",
    "    def __init__(self, capacity):\n",
    "        self.capacity = capacity\n",
    "        self.buffer = []\n",
    "        self.position = 0\n",
    "    \n",
    "    def push(self, state):\n",
    "        if len(self.buffer) < self.capacity:\n",
    "            self.buffer.append(None)\n",
    "        self.buffer[self.position] = state\n",
    "        self.position = (self.position + 1) % self.capacity\n",
    "    \n",
    "    def sample(self, batch_size):\n",
    "        batch = random.sample(self.buffer, batch_size)\n",
    "        return np.stack(batch)\n",
    "\n",
    "    def __len__(self):\n",
    "        return len(self.buffer)\n",
    "    \n",
    "class TargetDistr(object):\n",
    "    \n",
    "    def __init__(self):\n",
    "        \n",
    "        self.explr_dim = 1\n",
    "        \n",
    "        \n",
    "        self.mu        = np.stack([np.array([-1.]), np.array([2.])])\n",
    "        self.pi        = np.array([0.4,  0.6])\n",
    "        self.num_gauss = len(self.pi)\n",
    "\n",
    "        self.std       = np.stack([np.array([0.5]), np.array([0.8])])\n",
    "\n",
    "    def gumbel_sample(self, n):\n",
    "        pi = np.repeat(self.pi.reshape(-1,self.num_gauss), n, axis=0)\n",
    "        z  = np.random.gumbel(loc=0, scale=1, size=pi.shape)\n",
    "        return (np.log(pi) + z).argmax(axis=1)\n",
    "\n",
    "    def sample(self, n=1):\n",
    "        k   = self.gumbel_sample(n)\n",
    "        idx = (np.arange(n), k)\n",
    "        mu  = np.repeat(self.mu.reshape(-1, self.num_gauss, self.explr_dim), n, axis=0)\n",
    "        std = np.repeat(self.std.reshape(-1, self.num_gauss, self.explr_dim), n, axis=0)\n",
    "        \n",
    "        s = npr.normal(mu[idx], std[idx])\n",
    "        return s\n",
    "    \n",
    "    def pdf(self, x):\n",
    "        out = 0.\n",
    "        for mu, pi, std in zip(self.mu, self.pi, self.std):\n",
    "            out += pi * norm.pdf(x, mu, std)\n",
    "        return out + 1e-4\n",
    "\n",
    "\n",
    "    \n",
    "class KLErg(object):\n",
    "    \n",
    "    def __init__(self, num_states, num_actions, \n",
    "                 target_distr, explr_idx=[0],\n",
    "                 horizon=100, capacity=100, std=0.05):\n",
    "        \n",
    "        self.target_distr = target_distr\n",
    "        self.explr_idx    = explr_idx\n",
    "        self.num_states   = num_states\n",
    "        self.num_actions  = num_actions\n",
    "        self.horizon      = horizon\n",
    "        self.std          = std\n",
    "        self.buffer       = ReplayBuffer(capacity)\n",
    "        self.u_seq        = [np.zeros(num_actions) for _ in range(horizon)]\n",
    "        \n",
    "        self.grad         = jacobian(self.footprint)\n",
    "        self.barr_grad    = grad(self.barrier)\n",
    "    \n",
    "    def barrier(self, x):\n",
    "        return 100.*(x[0]/10.)**8\n",
    "    \n",
    "    def footprint(self, x, s):\n",
    "        return np.exp(-0.5 * np.sum(np.square(x[self.explr_idx] - s)/self.std, 1))\n",
    "    \n",
    "    def pdf(self, x_t, s):\n",
    "        pdf = -0.5 * np.sum(np.square(x_t[:, self.explr_idx] - s)/self.std, 1)\n",
    "        pdf = np.mean(np.exp(pdf),0) + 1e-5\n",
    "        return pdf\n",
    "                    \n",
    "    def __call__(self, state, model, n=20, eps=10., batch_size=20):\n",
    "        \n",
    "        self.u_seq[:-1] = self.u_seq[1:]\n",
    "        self.u_seq[-1] = np.zeros(self.num_actions)\n",
    "        \n",
    "        derivs = []\n",
    "        traj   = []\n",
    "        x      = model.reset(state)\n",
    "        s      = npr.uniform(-5., 5., size=(n, 1))\n",
    "        p      = self.target_distr.pdf(s)\n",
    "        p      /= np.sum(p)\n",
    "        \n",
    "        # forward simulate\n",
    "        for t in range(self.horizon):\n",
    "            \n",
    "            # compute derivatives \n",
    "            A, B = model.get_lin(x, self.u_seq[t])\n",
    "            gdx  = self.grad(x, s)\n",
    "            bdx  = self.barr_grad(x)\n",
    "            \n",
    "            # store the derivatives\n",
    "            derivs.append((gdx, A, B, bdx))\n",
    "            traj.append(x)\n",
    "            \n",
    "            # step forward\n",
    "            x    = model.step(self.u_seq[t])\n",
    "            \n",
    "        path = np.stack(traj)\n",
    "        if len(self.buffer) > batch_size:\n",
    "            p_states = self.buffer.sample(batch_size)\n",
    "            path = np.vstack([path, p_states])\n",
    "\n",
    "        q    = np.array([self.pdf(path, si) for si in s])\n",
    "        q    = q.reshape(-1,1)\n",
    "        q    /= np.sum(q)\n",
    "        \n",
    "        like_ratio = p/q\n",
    "        rho = np.zeros(x.shape)\n",
    "        for t in reversed(range(self.horizon)):\n",
    "            gdx, A, B, bdx = derivs[t]\n",
    "            rho = rho - model.dt * (np.mean(like_ratio * gdx, 0) - A.T.dot(rho) - bdx)\n",
    "            self.u_seq[t] = np.clip(-eps*B.T.dot(rho) + self.u_seq[t], -2., 2.)\n",
    "\n",
    "        return self.u_seq[0]\n",
    "            "
   ]
  },
  {
   "cell_type": "markdown",
   "metadata": {},
   "source": [
    "## Instantiate the environment, model, target distribution, and KL-E^3"
   ]
  },
  {
   "cell_type": "code",
   "execution_count": 11,
   "metadata": {},
   "outputs": [],
   "source": [
    "npr.seed(0)\n",
    "\n",
    "env   = SingleIntegratorEnv()\n",
    "model = SingleIntegratorEnv()\n",
    "\n",
    "t_dist = TargetDistr()\n",
    "kl_explr = KLErg(env.num_states, env.num_actions, t_dist, horizon=15)"
   ]
  },
  {
   "cell_type": "markdown",
   "metadata": {},
   "source": [
    "## Simulate a trajectory "
   ]
  },
  {
   "cell_type": "code",
   "execution_count": 12,
   "metadata": {},
   "outputs": [],
   "source": [
    "trajectory = []\n",
    "state = env.reset()\n",
    "for _ in range(600):\n",
    "    trajectory.append(state)\n",
    "    a = kl_explr(state, model, eps=100., n=40, batch_size=20)\n",
    "    state = env.step(a)\n",
    "    kl_explr.buffer.push(state)"
   ]
  },
  {
   "cell_type": "markdown",
   "metadata": {},
   "source": [
    "## Plot trajectory and resulting distributions"
   ]
  },
  {
   "cell_type": "code",
   "execution_count": 13,
   "metadata": {},
   "outputs": [
    {
     "data": {
      "image/png": "[encoded data removed]",
      "text/plain": [
       "<Figure size 216x432 with 2 Axes>"
      ]
     },
     "metadata": {
      "needs_background": "light"
     },
     "output_type": "display_data"
    }
   ],
   "source": [
    "tf = 400\n",
    "\n",
    "traj = np.stack(trajectory)\n",
    "t = [i * env.dt for i in range(tf)]\n",
    "\n",
    "xx = np.linspace(-5, 5, 100)\n",
    "scale = 500\n",
    "\n",
    "target_dist = [t_dist.pdf(xi) * scale for xi in xx]\n",
    "target_dist = np.array(target_dist)\n",
    "target_dist /= np.sum(target_dist)\n",
    "target_dist *= scale\n",
    "\n",
    "time_dist = [kl_explr.pdf(traj[:tf], xi) * scale for xi in xx]\n",
    "time_dist = np.array(time_dist)\n",
    "time_dist /= np.sum(time_dist)\n",
    "time_dist *= scale\n",
    "\n",
    "\n",
    "### Fourier decomp\n",
    "num_basis = 20\n",
    "cks = [np.mean(np.cos(k * (traj[:tf,0] + 5.0) * np.pi / (10.))) for k in range(num_basis)]\n",
    "recon = np.zeros(xx.shape)\n",
    "for k in range(num_basis):\n",
    "    recon += cks[k] * np.cos(k * (xx + 5.0) * np.pi/10.)\n",
    "recon /= np.sum(recon)\n",
    "recon *= scale\n",
    "\n",
    "fig, axs = plt.subplots(2, 1, figsize=(3,6), gridspec_kw={'height_ratios': [0.8, 1]})\n",
    "\n",
    "axs[1].plot(traj[:tf,0], t, alpha=0.8, label='x(t)', color='tab:orange')\n",
    "axs[0].plot(traj[:tf,0], np.zeros(traj[:tf,0].shape), 'o', alpha=0.01, color='m')\n",
    "axs[0].plot(traj[50:52,0], np.zeros(traj[50:52,0].shape), 'o', alpha=0.2, color='m', label='samples')\n",
    "\n",
    "# axs[0].plot([-5, 5], [0,0] , alpha=1.0, color='k', lw=1.)\n",
    "\n",
    "axs[1].spines['top'].set_visible(False)\n",
    "axs[1].spines['right'].set_visible(False)\n",
    "\n",
    "axs[1].set_ylabel('t')\n",
    "axs[1].set_xlim(-5,5)\n",
    "axs[1].set_ylim(-1,35)\n",
    "\n",
    "axs[1].legend()\n",
    "\n",
    "axs[0].spines['top'].set_visible(False)\n",
    "axs[0].spines['right'].set_visible(False)\n",
    "\n",
    "axs[0].plot(xx,target_dist, 'tab:gray', alpha=0.5, lw=3, label='p(s)')\n",
    "axs[0].plot(xx,time_dist, 'tab:blue', alpha=1.0, lw=2, label='q(s | x(t))')\n",
    "axs[0].plot(xx,recon, 'm', alpha=0.5, lw=2, label='c(s | x(t))')\n",
    "axs[0].set_ylabel('likelihood')\n",
    "axs[0].set_xlim(-5,5)\n",
    "\n",
    "axs[0].set_xlabel('x')\n",
    "\n",
    "axs[0].legend()\n",
    "\n",
    "plt.tight_layout()\n",
    "\n",
    "plt.show()"
   ]
  },
  {
   "cell_type": "markdown",
   "metadata": {},
   "source": [
    "## Make a cool video "
   ]
  },
  {
   "cell_type": "code",
   "execution_count": 14,
   "metadata": {},
   "outputs": [
    {
     "data": {
      "image/png": "[encoded data removed]",
      "text/plain": [
       "<Figure size 144x216 with 1 Axes>"
      ]
     },
     "metadata": {
      "needs_background": "light"
     },
     "output_type": "display_data"
    }
   ],
   "source": [
    "# from matplotlib import pyplot as plt\n",
    "from celluloid import Camera\n",
    "\n",
    "fig = plt.figure(figsize=(2,3))\n",
    "camera = Camera(fig)\n",
    "\n",
    "t = [i * env.dt for i in range(len(traj))]\n",
    "\n",
    "\n",
    "target_dist = [t_dist.pdf(xi) * scale for xi in xx]\n",
    "target_dist = np.array(target_dist)\n",
    "target_dist /= np.sum(target_dist)\n",
    "target_dist *= scale\n",
    "\n",
    "for i in range(1,len(traj), 10):\n",
    "    \n",
    "#     plt.clf()\n",
    "    \n",
    "    plt.plot(traj[:i, 0], t[:i], 'm', label='trajectory')\n",
    "    time_dist = [kl_explr.pdf(traj[:i], xi) * scale for xi in xx]\n",
    "    time_dist = np.array(time_dist)\n",
    "    time_dist /= np.sum(time_dist)\n",
    "    time_dist *= scale\n",
    "    \n",
    "    \n",
    "    \n",
    "    plt.plot(xx, time_dist, color='b', label='trajectory dist.')\n",
    "    plt.plot(xx, target_dist, color='g', label='target dist.')\n",
    "    plt.plot(traj[:i,0], np.zeros(traj[:i,0].shape), 'o', alpha=0.01, color='m', label='samples')\n",
    "    plt.xlabel('x')\n",
    "    plt.ylabel('t')\n",
    "    plt.tight_layout()\n",
    "    camera.snap()\n",
    "    \n",
    "animation = camera.animate()\n",
    "animation.save('./distr_match.gif', writer = 'imagemagick', fps=10)"
   ]
  },
  {
   "cell_type": "code",
   "execution_count": null,
   "metadata": {},
   "outputs": [],
   "source": []
  }
 ],
 "metadata": {
  "kernelspec": {
   "display_name": "Python 3",
   "language": "python",
   "name": "python3"
  },
  "language_info": {
   "codemirror_mode": {
    "name": "ipython",
    "version": 3
   },
   "file_extension": ".py",
   "mimetype": "text/x-python",
   "name": "python",
   "nbconvert_exporter": "python",
   "pygments_lexer": "ipython3",
   "version": "3.6.8"
  }
 },
 "nbformat": 4,
 "nbformat_minor": 4
}
