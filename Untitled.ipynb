{
 "cells": [
  {
   "cell_type": "code",
   "execution_count": 23,
   "metadata": {},
   "outputs": [],
   "source": [
    "import jax\n",
    "import jax.numpy as np\n",
    "import jax.random as jnp_random\n",
    "import numpy as onp\n",
    "from jax import grad, jacrev, jacfwd, jit, vmap, partial\n",
    "from jax.scipy.special import logsumexp\n",
    "from jax.numpy import concatenate as cat\n",
    "import timeit\n",
    "\n",
    "import random\n",
    "import pickle as pkl\n",
    "import scipy\n",
    "\n",
    "from IPython.display import clear_output\n",
    "import matplotlib.pyplot as plt\n",
    "import seaborn as sns\n",
    "import pandas as pd"
   ]
  },
  {
   "cell_type": "code",
   "execution_count": 2,
   "metadata": {},
   "outputs": [],
   "source": [
    "@jit\n",
    "def dist(x, s):\n",
    "    dx = x-s\n",
    "    return -0.5 * np.sum((dx/0.1)**2)\n",
    "\n",
    "@jit\n",
    "def p(x): # uniform distribution\n",
    "    return 1.0\n",
    "\n",
    "logexp_vmap = lambda _x, _s: logsumexp(vmap(dist, in_axes=(0,None))(_x, _s))\n",
    "\n",
    "@jit\n",
    "def KLergodic_loss(tr, si):\n",
    "    logqi = vmap(partial(logexp_vmap, tr))(si)\n",
    "    pi = vmap(p)(si)\n",
    "    ell = -np.sum(logqi*pi) #+ np.mean(vmap(p)(si) * np.log(vmap(p)(si)))\n",
    "    return ell\n",
    "\n",
    "def fk(x, k):\n",
    "    return np.prod(np.cos(np.pi*x*k))\n",
    "\n",
    "fk_vmap = lambda _x, _k: vmap(fk, in_axes=(0,None))(_x, _k)\n",
    "\n",
    "@jit\n",
    "def fourier_ergodic_loss(tr, k):\n",
    "    return np.mean(np.square(phik - np.mean(vmap(partial(fk_vmap,tr))(k),axis=1)))"
   ]
  },
  {
   "cell_type": "code",
   "execution_count": 19,
   "metadata": {},
   "outputs": [],
   "source": [
    "log = {'method' : [], 'n' : [], 'elapsed time (s)' : []}"
   ]
  },
  {
   "cell_type": "code",
   "execution_count": 43,
   "metadata": {},
   "outputs": [
    {
     "name": "stdout",
     "output_type": "stream",
     "text": [
      "0.000381768835999992\n",
      "0.00033481372299957004\n",
      "0.00039775786200016227\n",
      "0.00033496659899992666\n",
      "0.00047014651500012404\n",
      "0.000767939103000117\n",
      "0.0013287892510002166\n",
      "0.002079576430000088\n",
      "0.0030961188599999334\n",
      "0.004493961903000126\n"
     ]
    }
   ],
   "source": [
    "# n = 2\n",
    "# test_N = [5, 10, 50, 100, 200, 300, 400, 500, 1000, 2000, 4000, 5000, 6000, 10000]\n",
    "test_n = [2**i for i in range(10)]\n",
    "N = 100\n",
    "# n = 5\n",
    "T = 100\n",
    "num_k = 5\n",
    "\n",
    "key=jnp_random.PRNGKey(0)\n",
    "# for N in test_N:\n",
    "for n in test_n:\n",
    "    tr = jnp_random.uniform(key, minval=-1, maxval=1, shape=(T,n))\n",
    "#     k  = jnp_random.randint(key,minval=0, maxval=10, shape=(num_k**n,n))\n",
    "    si = jnp_random.uniform(key, minval=-1, maxval=1, shape=(N,n))\n",
    "#     phik = jnp_random.normal(key, shape=(num_k**n,1))\n",
    "    \n",
    "#     fourier_ergodic_loss(tr,si)\n",
    "    KLergodic_loss(tr,si)\n",
    "    \n",
    "    kl_time = timeit.timeit(lambda: KLergodic_loss(tr, si), number=1000)/1000.\n",
    "    log['elapsed time (s)'].append(kl_time)\n",
    "    log['method'].append('KL-Ergodic Measure')\n",
    "    log['n'].append(n)\n",
    "    print(kl_time)\n",
    "#     fourier_time = timeit.timeit(lambda: fourier_ergodic_loss(tr, k), number=100)/100.\n",
    "#     print(kl_time, fourier_time)"
   ]
  },
  {
   "cell_type": "code",
   "execution_count": 44,
   "metadata": {},
   "outputs": [
    {
     "name": "stdout",
     "output_type": "stream",
     "text": [
      "0.0004558108300034291\n",
      "0.00047010990000217133\n",
      "0.00025816033999944923\n",
      "0.00024094087999856128\n",
      "0.0003160543400008464\n",
      "0.00044001054000091243\n",
      "0.000983017240000663\n",
      "0.0017395620999968741\n",
      "0.003906350789998214\n",
      "0.008696248560004277\n",
      "0.021475392929996815\n",
      "0.047581667490003386\n",
      "0.1473100273900036\n",
      "0.4833761894700001\n"
     ]
    }
   ],
   "source": [
    "# n = 2\n",
    "# test_N = [5, 10, 50, 100, 200, 300, 400, 500, 1000, 2000, 4000, 5000, 6000, 10000]\n",
    "test_n = [i for i in range(1,15)]\n",
    "N = 100\n",
    "# n = 5\n",
    "T = 100\n",
    "num_k = 2\n",
    "\n",
    "key=jnp_random.PRNGKey(0)\n",
    "# for N in test_N:\n",
    "for n in test_n:\n",
    "    try:\n",
    "        tr = jnp_random.uniform(key, minval=-1, maxval=1, shape=(T,n))\n",
    "        k  = jnp_random.randint(key,minval=0, maxval=10, shape=(num_k**n,n))\n",
    "    #     si = jnp_random.uniform(key, minval=-1, maxval=1, shape=(N,n))\n",
    "        phik = jnp_random.normal(key, shape=(num_k**n,1))\n",
    "\n",
    "        fourier_ergodic_loss(tr,k)\n",
    "    #     KLergodic_loss(tr,si)\n",
    "\n",
    "    #     kl_time = timeit.timeit(lambda: KLergodic_loss(tr, si), number=1000)/1000.\n",
    "    #     log.append(kl_time)\n",
    "        fourier_time = timeit.timeit(lambda: fourier_ergodic_loss(tr, k), number=100)/100.\n",
    "        log['elapsed time (s)'].append(fourier_time)\n",
    "        log['method'].append('Fourier Ergodic Metric')\n",
    "        log['n'].append(n)\n",
    "        print(fourier_time)\n",
    "    except:\n",
    "        print('errored out')"
   ]
  },
  {
   "cell_type": "code",
   "execution_count": 51,
   "metadata": {},
   "outputs": [],
   "source": [
    "df = pd.DataFrame(log)"
   ]
  },
  {
   "cell_type": "code",
   "execution_count": 49,
   "metadata": {},
   "outputs": [],
   "source": [
    "sns.set()"
   ]
  },
  {
   "cell_type": "code",
   "execution_count": 53,
   "metadata": {},
   "outputs": [
    {
     "data": {
      "image/png": "[encoded data removed]",
      "text/plain": [
       "<Figure size 432x288 with 1 Axes>"
      ]
     },
     "metadata": {},
     "output_type": "display_data"
    }
   ],
   "source": [
    "g = sns.lineplot(x=\"n\", y=\"elapsed time (s)\", hue=\"method\", err_style=\"bars\",markers=True, data=df)\n",
    "g.set(yscale='log')\n",
    "g.set(xscale='log')\n",
    "plt.savefig('numerical_comparison.pdf')"
   ]
  },
  {
   "cell_type": "code",
   "execution_count": 13,
   "metadata": {},
   "outputs": [
    {
     "data": {
      "text/plain": [
       "[<matplotlib.lines.Line2D at 0x7f611ca368d0>]"
      ]
     },
     "execution_count": 13,
     "metadata": {},
     "output_type": "execute_result"
    },
    {
     "data": {
      "image/png": "[encoded data removed]",
      "text/plain": [
       "<Figure size 432x288 with 1 Axes>"
      ]
     },
     "metadata": {
      "needs_background": "light"
     },
     "output_type": "display_data"
    }
   ],
   "source": [
    "plt.plot(test_n[:len(log)], log)"
   ]
  },
  {
   "cell_type": "code",
   "execution_count": 9,
   "metadata": {},
   "outputs": [
    {
     "data": {
      "text/plain": [
       "[1, 2, 3, 4, 5, 6, 7, 8, 9, 10, 11, 12, 13, 14]"
      ]
     },
     "execution_count": 9,
     "metadata": {},
     "output_type": "execute_result"
    }
   ],
   "source": [
    "test_n[:len(log)]"
   ]
  },
  {
   "cell_type": "code",
   "execution_count": null,
   "metadata": {},
   "outputs": [],
   "source": []
  }
 ],
 "metadata": {
  "kernelspec": {
   "display_name": "Python 3",
   "language": "python",
   "name": "python3"
  },
  "language_info": {
   "codemirror_mode": {
    "name": "ipython",
    "version": 3
   },
   "file_extension": ".py",
   "mimetype": "text/x-python",
   "name": "python",
   "nbconvert_exporter": "python",
   "pygments_lexer": "ipython3",
   "version": "3.6.9"
  }
 },
 "nbformat": 4,
 "nbformat_minor": 4
}
